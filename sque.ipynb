{
 "cells": [
  {
   "cell_type": "code",
   "execution_count": 5,
   "metadata": {},
   "outputs": [
    {
     "name": "stdout",
     "output_type": "stream",
     "text": [
      "\n",
      "A(:,:,1) =\n",
      "\n",
      "     1\n",
      "     2\n",
      "\n",
      "\n",
      "A(:,:,2) =\n",
      "\n",
      "     3\n",
      "     4\n",
      "\n",
      "\n",
      "A(:,:,1) =\n",
      "\n",
      "     1\n",
      "     2\n",
      "\n",
      "\n",
      "A(:,:,2) =\n",
      "\n",
      "     3\n",
      "     4\n",
      "\n",
      "\n"
     ]
    }
   ],
   "source": [
    "A = zeros(2,1,2);\n",
    "A(:,:,1) = [1 2]';\n",
    "A(:,:,2) = [3 4]'\n",
    "A"
   ]
  },
  {
   "cell_type": "code",
   "execution_count": 4,
   "metadata": {},
   "outputs": [
    {
     "name": "stdout",
     "output_type": "stream",
     "text": [
      "\n",
      "ans(:,:,1) =\n",
      "\n",
      "     0     0     0\n",
      "\n",
      "\n",
      "ans(:,:,2) =\n",
      "\n",
      "     0     0     0\n",
      "\n",
      "\n",
      "ans(:,:,3) =\n",
      "\n",
      "     0     0     0\n",
      "\n",
      "\n",
      "ans(:,:,4) =\n",
      "\n",
      "     0     0     0\n",
      "\n",
      "\n"
     ]
    }
   ],
   "source": [
    "zeros(1,3,4)"
   ]
  },
  {
   "cell_type": "code",
   "execution_count": null,
   "metadata": {},
   "outputs": [],
   "source": []
  }
 ],
 "metadata": {
  "kernelspec": {
   "display_name": "Matlab",
   "language": "matlab",
   "name": "matlab"
  },
  "language_info": {
   "codemirror_mode": "octave",
   "file_extension": ".m",
   "help_links": [
    {
     "text": "MetaKernel Magics",
     "url": "https://metakernel.readthedocs.io/en/latest/source/README.html"
    }
   ],
   "mimetype": "text/x-octave",
   "name": "matlab",
   "version": "0.17.1"
  },
  "orig_nbformat": 4
 },
 "nbformat": 4,
 "nbformat_minor": 2
}
